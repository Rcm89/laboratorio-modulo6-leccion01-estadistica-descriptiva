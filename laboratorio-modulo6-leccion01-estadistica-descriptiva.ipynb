{
 "cells": [
  {
   "cell_type": "markdown",
   "metadata": {},
   "source": [
    "<div style=\"text-align: center;\">\n",
    "  <img src=\"https://github.com/Hack-io-Data/Imagenes/blob/main/01-LogosHackio/logo_naranja@4x.png?raw=true\" alt=\"esquema\" />\n",
    "</div>\n",
    "\n",
    "\n",
    "# Laboratorio Estadistica Descriptiva\n",
    "\n",
    "⚠️ Siempre que puedas usa graficas para apoyar tu interpretacion\n"
   ]
  },
  {
   "cell_type": "code",
   "execution_count": 87,
   "metadata": {},
   "outputs": [],
   "source": [
    "# importamos las librerías que necesitamos\n",
    "\n",
    "# Tratamiento de datos\n",
    "# -----------------------------------------------------------------------\n",
    "import numpy as np  \n",
    "import pandas as pd \n",
    "\n",
    "\n",
    "# Visualización\n",
    "# ------------------------------------------------------------------------------\n",
    "import matplotlib.pyplot as plt\n",
    "import seaborn as sns\n",
    "\n",
    "\n",
    "# librerias para estadisticas \n",
    "# ------------------------------------------------------------------------------\n",
    "\n",
    "import statistics as st \n",
    "from scipy import stats  \n",
    "from scipy.stats import skew,kurtosis # libreria para asimetria y curtosis \n"
   ]
  },
  {
   "cell_type": "code",
   "execution_count": 88,
   "metadata": {},
   "outputs": [],
   "source": [
    "# Añadimos una importación de librería que usaremos en el último ejercicico\n",
    "from scipy.stats import mode"
   ]
  },
  {
   "cell_type": "code",
   "execution_count": 89,
   "metadata": {},
   "outputs": [
    {
     "data": {
      "text/html": [
       "<div>\n",
       "<style scoped>\n",
       "    .dataframe tbody tr th:only-of-type {\n",
       "        vertical-align: middle;\n",
       "    }\n",
       "\n",
       "    .dataframe tbody tr th {\n",
       "        vertical-align: top;\n",
       "    }\n",
       "\n",
       "    .dataframe thead th {\n",
       "        text-align: right;\n",
       "    }\n",
       "</style>\n",
       "<table border=\"1\" class=\"dataframe\">\n",
       "  <thead>\n",
       "    <tr style=\"text-align: right;\">\n",
       "      <th></th>\n",
       "      <th>ID</th>\n",
       "      <th>Horas Trabajadas</th>\n",
       "      <th>Ventas Realizadas</th>\n",
       "    </tr>\n",
       "  </thead>\n",
       "  <tbody>\n",
       "    <tr>\n",
       "      <th>0</th>\n",
       "      <td>1</td>\n",
       "      <td>54.967142</td>\n",
       "      <td>48.0</td>\n",
       "    </tr>\n",
       "    <tr>\n",
       "      <th>1</th>\n",
       "      <td>2</td>\n",
       "      <td>48.617357</td>\n",
       "      <td>47.0</td>\n",
       "    </tr>\n",
       "    <tr>\n",
       "      <th>2</th>\n",
       "      <td>3</td>\n",
       "      <td>56.476885</td>\n",
       "      <td>55.0</td>\n",
       "    </tr>\n",
       "    <tr>\n",
       "      <th>3</th>\n",
       "      <td>4</td>\n",
       "      <td>65.230299</td>\n",
       "      <td>61.0</td>\n",
       "    </tr>\n",
       "    <tr>\n",
       "      <th>4</th>\n",
       "      <td>5</td>\n",
       "      <td>47.658466</td>\n",
       "      <td>47.0</td>\n",
       "    </tr>\n",
       "  </tbody>\n",
       "</table>\n",
       "</div>"
      ],
      "text/plain": [
       "   ID  Horas Trabajadas  Ventas Realizadas\n",
       "0   1         54.967142               48.0\n",
       "1   2         48.617357               47.0\n",
       "2   3         56.476885               55.0\n",
       "3   4         65.230299               61.0\n",
       "4   5         47.658466               47.0"
      ]
     },
     "execution_count": 89,
     "metadata": {},
     "output_type": "execute_result"
    }
   ],
   "source": [
    "# Cargamos el archivo de datos\n",
    "df_rendimiento = pd.read_csv('datos/rendimiento.csv')\n",
    "df_rendimiento.head()"
   ]
  },
  {
   "cell_type": "markdown",
   "metadata": {},
   "source": [
    "#### Ejercicio 1: \n",
    "\n",
    "1.  Dados los siguientes datos: [15, 21, 25, 32, 35, 45, 50, 50, 55, 60]. Crea una funcion que calcule la media, mediana y moda.\n"
   ]
  },
  {
   "cell_type": "code",
   "execution_count": 90,
   "metadata": {},
   "outputs": [
    {
     "name": "stdout",
     "output_type": "stream",
     "text": [
      "media=38.8, mediana=40.0,moda=50\n"
     ]
    }
   ],
   "source": [
    "lista_datos = [15, 21, 25, 32, 35, 45, 50, 50, 55, 60]\n",
    "def calcular_media_mediana_y_moda(lista):\n",
    "    media = st.mean(lista)\n",
    "    mediana = st.median(lista)\n",
    "    moda = st.mode(lista)\n",
    "    return media, mediana, moda\n",
    "estadisticos=calcular_media_mediana_y_moda(lista_datos) \n",
    "print(f\"media={estadisticos[0]}, mediana={estadisticos[1]},moda={estadisticos[2]}\")           "
   ]
  },
  {
   "cell_type": "markdown",
   "metadata": {},
   "source": [
    "2.\tInterpretación de la media: ¿Qué sucede si un valor extremo, como 100, se agrega al conjunto de datos anterior? ¿Cómo cambia la media? Explica por qué sucede esto."
   ]
  },
  {
   "cell_type": "markdown",
   "metadata": {},
   "source": [
    "La media aunmenta considerablemente, esto se explica por dos razones:\n",
    "\n",
    "1. La media se calcula sumando todos los valores y dividiendo por el número total de datos. Un valor extremo como 100 aumenta significativamente la suma total, lo que, al dividir por el número de datos, incrementa la media.\n",
    "\n",
    "2. En el calculo de la media  cada valor en el conjunto de datos influye por igual en la media. Por lo tanto, un solo valor atípico puede afectar considerablemente el resultado."
   ]
  },
  {
   "cell_type": "markdown",
   "metadata": {},
   "source": [
    "\n",
    "#### Ejercicio 2: \n",
    "1. **Cálculo de la varianza y desviación estándar**: Usando los mismos datos de arriba, calcula la **varianza** y la **desviación estándar**.\n",
    "\n",
    "\n"
   ]
  },
  {
   "cell_type": "code",
   "execution_count": 91,
   "metadata": {},
   "outputs": [
    {
     "name": "stdout",
     "output_type": "stream",
     "text": [
      "varianza=237.2888888888889, desviacion estandar=15.404184135775866\n"
     ]
    }
   ],
   "source": [
    "# usamos las funciones de la libreria statistics para calcular la varianza y la desviación estandar\n",
    "varianza = st.variance(lista_datos)\n",
    "desviacion_estandar = st.stdev(lista_datos)\n",
    "print(f\"varianza={varianza}, desviacion estandar={desviacion_estandar}\")"
   ]
  },
  {
   "cell_type": "markdown",
   "metadata": {},
   "source": [
    "2. **Comparación de dispersión**: Dado otro conjunto de datos: `[18, 19, 20, 22, 24, 25, 27, 30]`, compara la **dispersión** de este grupo con el conjunto de datos anterior (del Ejercicio 1) calculando la **desviación estándar** de ambos. ¿Qué conjunto tiene mayor dispersión?"
   ]
  },
  {
   "cell_type": "code",
   "execution_count": 92,
   "metadata": {},
   "outputs": [
    {
     "name": "stdout",
     "output_type": "stream",
     "text": [
      "desviacion estandar del conjunto = 4.155461122770509\n"
     ]
    }
   ],
   "source": [
    "lista_datos_2 = [18, 19, 20, 22, 24, 25, 27, 30]\n",
    "desviacion_estandar_2 = st.stdev(lista_datos_2)\n",
    "print(f\"desviacion estandar del conjunto = {desviacion_estandar_2}\")\n"
   ]
  },
  {
   "cell_type": "markdown",
   "metadata": {},
   "source": [
    "Vemos que la desviación estandar del conjunto de datos original es mayor que la de este nuevo conjunto, y por tanto la dispersión de los datos original es mayor que la de estos nuevos datos."
   ]
  },
  {
   "cell_type": "markdown",
   "metadata": {},
   "source": [
    "#### Ejercicio 3:\n",
    "\n",
    "1. Usa la función correspondiente en Python para calcular la **asimetría** del conjunto de datos: `[10, 20, 20, 20, 25, 30, 35, 40]`. \n"
   ]
  },
  {
   "cell_type": "code",
   "execution_count": 93,
   "metadata": {},
   "outputs": [
    {
     "name": "stdout",
     "output_type": "stream",
     "text": [
      "asimetria=0.1280077375904375\n"
     ]
    }
   ],
   "source": [
    "datos = [10, 20, 20, 20, 25, 30, 35, 40]\n",
    "asimetria = skew(datos)\n",
    "print(f\"asimetria={asimetria}\")"
   ]
  },
  {
   "cell_type": "markdown",
   "metadata": {},
   "source": [
    "2. Interpreta el resultado: ¿El conjunto es simétrico, sesgado a la izquierda o a la derecha?"
   ]
  },
  {
   "cell_type": "markdown",
   "metadata": {},
   "source": [
    "La asimetria es positica, indicando un ligero sesgo hacia la derecha. Esto se debe a que hay una mayor concentración de valores alrededor de 20 y algunos valores más altos (como 35 y 40) que \"estiran\" la distribución hacia la derecha."
   ]
  },
  {
   "cell_type": "code",
   "execution_count": 94,
   "metadata": {},
   "outputs": [
    {
     "name": "stderr",
     "output_type": "stream",
     "text": [
      "C:\\Users\\Administrador\\AppData\\Local\\Temp\\ipykernel_3192\\3933130287.py:10: FutureWarning: \n",
      "\n",
      "`shade` is now deprecated in favor of `fill`; setting `fill=True`.\n",
      "This will become an error in seaborn v0.14.0; please update your code.\n",
      "\n",
      "  sns.kdeplot(datos,\n"
     ]
    },
    {
     "data": {
      "image/png": "[encoded data removed]",
      "text/plain": [
       "<Figure size 640x480 with 1 Axes>"
      ]
     },
     "metadata": {},
     "output_type": "display_data"
    }
   ],
   "source": [
    "\"\"\"plt.figure(figsize=(8, 6))\n",
    "sns.histplot(datos, kde=True, bins=7)\n",
    "plt.title(\"Distribución de Datos para el Análisis de Asimetría\")\n",
    "plt.xlabel(\"Valores\")\n",
    "plt.ylabel(\"Frecuencia\")\n",
    "plt.tight_layout()\n",
    "plt.show()\n",
    "\"\"\"\n",
    "\n",
    "sns.kdeplot(datos, \n",
    "            shade=True, \n",
    "            color = \"orange\")\n",
    "\n",
    "plt.title(\"Distribución de Datos para el Análisis de Asimetría\")\n",
    "plt.xlabel(\"Valores\")\n",
    "plt.ylabel(\"Frecuencia\")\n",
    "plt.tight_layout()\n",
    "plt.show()"
   ]
  },
  {
   "cell_type": "markdown",
   "metadata": {},
   "source": [
    "Vemos que la asimetria es bastante leve, pero efectivamente hacia la derecha, es decir, la cola derecha es ligeramente más larga indicando una mayor concentración de valores extremos en esa parte de la distribución"
   ]
  },
  {
   "cell_type": "markdown",
   "metadata": {},
   "source": [
    "#### Ejercicio 4: \n",
    "\n",
    "1. Calcula la **curtosis** para el conjunto de datos: `[5, 5, 5, 20, 25, 30, 30, 50]`. "
   ]
  },
  {
   "cell_type": "code",
   "execution_count": 95,
   "metadata": {},
   "outputs": [
    {
     "name": "stdout",
     "output_type": "stream",
     "text": [
      "curtosis=-0.7357817008166658\n"
     ]
    }
   ],
   "source": [
    "datos = [5, 5, 5, 20, 25, 30, 30, 50]\n",
    "\n",
    "\n",
    "curtosis = kurtosis(datos)\n",
    "\n",
    "\n",
    "print(f\"curtosis={curtosis}\")"
   ]
  },
  {
   "cell_type": "markdown",
   "metadata": {},
   "source": [
    "2. ¿El conjunto tiene una curtosis positiva, negativa o es mesocúrtico? Explica qué implica esto sobre la forma de la distribución."
   ]
  },
  {
   "cell_type": "markdown",
   "metadata": {},
   "source": [
    "La curtosis es negativa lo que indica una distribución más plana y con menor concentración en los extremos respecto a la distriución normal.\n",
    "\n",
    "Lo ilustramos con una visualización"
   ]
  },
  {
   "cell_type": "code",
   "execution_count": 96,
   "metadata": {},
   "outputs": [
    {
     "data": {
      "image/png": "[encoded data removed]",
      "text/plain": [
       "<Figure size 800x600 with 1 Axes>"
      ]
     },
     "metadata": {},
     "output_type": "display_data"
    }
   ],
   "source": [
    "plt.figure(figsize=(8, 6))\n",
    "sns.histplot(datos, kde=True, bins=7)\n",
    "plt.title(\"Distribución de Datos para el Análisis de Curtosis\")\n",
    "plt.xlabel(\"Valores\")\n",
    "plt.ylabel(\"Frecuencia\")\n",
    "plt.tight_layout()\n",
    "plt.show()"
   ]
  },
  {
   "cell_type": "markdown",
   "metadata": {},
   "source": [
    "Vemos que hay salto importante de freuencia entre los de mayor frecuencia, alrededor del 10 y del 30 y los de menor, 20 y 50, es decir hay mayor concentración, en uno de los extremos, el izquierdo, y  en el centro."
   ]
  },
  {
   "cell_type": "markdown",
   "metadata": {},
   "source": [
    "#### Ejercicio 5: Caso practico. \n",
    "\n",
    "\n",
    "Imagina que una empresa está evaluando el rendimiento de sus empleados para entender la relación entre el tiempo que dedican a su trabajo y el éxito que tienen en términos de ventas. La empresa recopila datos durante un mes, midiendo cuántas **horas trabajó** cada empleado y cuántas **ventas realizaron**. Estos datosa se encuentran en el archivo `rendimiento.csv`\n",
    "\n",
    "**Horas trabajadas**: \n",
    "   - Se midieron las horas trabajadas por un grupo de empleados. En general, la mayoría de los empleados trabajan entre 40 y 60 horas a la semana, con algunos empleados trabajando un poco menos o más.\n",
    "\n",
    "\n",
    "**Ventas realizadas**:\n",
    "   - A cada empleado también se le hizo un seguimiento de cuántas ventas realizó. Aunque las ventas están influenciadas por las horas trabajadas, hay cierta **variabilidad**: algunos empleados pueden ser más productivos y vender más en menos tiempo, mientras que otros necesitan trabajar más para alcanzar los mismos resultados.\n",
    "\n",
    "\n",
    "Resuelve los siguientes puntos:\n",
    "\n",
    "\n",
    "\n",
    "1. **Cálculo de la media, mediana y moda**:\n",
    "   - Calcula la **media**, **mediana** y **moda** de las columnas **Horas Trabajadas** y **Ventas Realizadas**.\n",
    "   - Explica qué información proporciona cada medida en este contexto. Justifica tus conclusiones con representación de graficas. \n"
   ]
  },
  {
   "cell_type": "code",
   "execution_count": null,
   "metadata": {},
   "outputs": [
    {
     "data": {
      "text/plain": [
       "{'Media Horas': 48.961534826059065,\n",
       " 'Mediana Horas': 48.730437082202876,\n",
       " 'Moda Horas': np.float64(23.802548959102555),\n",
       " 'Media Ventas': 49.12,\n",
       " 'Mediana Ventas': 48.0,\n",
       " 'Moda Ventas': np.float64(47.0)}"
      ]
     },
     "execution_count": 97,
     "metadata": {},
     "output_type": "execute_result"
    }
   ],
   "source": [
    "# Calculamos la media, mediana y moda para las columnas Horas Trabajadas y Ventas Realizadas del dataframe df_rendimiento\n",
    "media_horas = st.mean(df_rendimiento['Horas Trabajadas'])\n",
    "mediana_horas = st.median(df_rendimiento['Horas Trabajadas'])\n",
    "moda_horas = mode(df_rendimiento['Horas Trabajadas'], keepdims=False).mode\n",
    "\n",
    "media_ventas = st.mean(df_rendimiento['Ventas Realizadas'])\n",
    "mediana_ventas = st.median(df_rendimiento['Ventas Realizadas'])\n",
    "moda_ventas = mode(df_rendimiento['Ventas Realizadas'], keepdims=False).mode\n",
    "\n",
    "# Para mostrar los resultados hacemos un diccionario\n",
    "resultados = {\n",
    "    \"Media Horas\": media_horas,\n",
    "    \"Mediana Horas\": mediana_horas,\n",
    "    \"Moda Horas\": moda_horas,\n",
    "    \"Media Ventas\": media_ventas,\n",
    "    \"Mediana Ventas\": mediana_ventas,\n",
    "    \"Moda Ventas\": moda_ventas\n",
    "}\n",
    "resultados"
   ]
  },
  {
   "cell_type": "markdown",
   "metadata": {},
   "source": [
    "\n",
    "2. **Comparación de medidas de centralización**:\n",
    "   - ¿Cómo se diferencian la media y la mediana para los datos de **Ventas Realizadas**? ¿Qué indica esta diferencia sobre la distribución de las ventas?\n"
   ]
  },
  {
   "cell_type": "markdown",
   "metadata": {},
   "source": [
    "Tenemos, las siguientes medidas de centralización, calculadas en el apartado anterior para esos datos: Media: 49.12\n",
    "Mediana: 48.0\n",
    "\n",
    "La media es ligeramente mayor que la mediana en estos datos de ventas. Esta diferencia, aunque pequeña, sugiere una asimetría positiva (sesgo a la derecha) en la distribución de las ventas.\n",
    "\n",
    "La asimetría positiva indica que la distribución tiene una cola hacia la derecha, es decir, algunos empleados realizaron un número de ventas superior al promedio. Esto provoca que la media se desplace un poco hacia valores más altos en comparación con la mediana. En términos de rendimiento, significa que, aunque la mayoría de los empleados realizan cerca de 48 ventas (valor mediano), hay algunos que alcanzan cifras de ventas más altas, elevando el promedio general."
   ]
  },
  {
   "cell_type": "markdown",
   "metadata": {},
   "source": [
    "3. **Cálculo de la varianza y desviación estándar**:\n",
    "   - Calcula la **varianza** y la **desviación estándar** para las columnas **Horas Trabajadas** y **Ventas Realizadas**.\n",
    "   - ¿Qué conjunto de datos es más disperso? Explica el significado de la dispersión en este caso. Justifica tus conclusiones con representación de graficas. \n"
   ]
  },
  {
   "cell_type": "code",
   "execution_count": 103,
   "metadata": {},
   "outputs": [
    {
     "data": {
      "text/plain": [
       "{'Varianza Horas': 82.47698936301599,\n",
       " 'Desviación Estándar Horas': 9.081684280078008,\n",
       " 'Varianza Ventas': 93.05616161616162,\n",
       " 'Desviación Estándar Ventas': 9.646562165671334}"
      ]
     },
     "execution_count": 103,
     "metadata": {},
     "output_type": "execute_result"
    }
   ],
   "source": [
    "# Calculamos la varianza y desviación estándar para las columnas de nuestro dataframe Horas Trabajadas y ventas realizadas\n",
    "varianza_horas = st.variance(df_rendimiento['Horas Trabajadas'])\n",
    "desviacion_estandar_horas = st.stdev(df_rendimiento['Horas Trabajadas'])\n",
    "\n",
    "varianza_ventas = st.variance(df_rendimiento['Ventas Realizadas'])\n",
    "desviacion_estandar_ventas = st.stdev(df_rendimiento['Ventas Realizadas'])\n",
    "\n",
    "resultados = {\n",
    "    \"Varianza Horas\": varianza_horas,\n",
    "    \"Desviación Estándar Horas\": desviacion_estandar_horas,\n",
    "    \"Varianza Ventas\": varianza_ventas,\n",
    "    \"Desviación Estándar Ventas\": desviacion_estandar_ventas\n",
    "}\n",
    "resultados\n"
   ]
  },
  {
   "cell_type": "markdown",
   "metadata": {},
   "source": []
  },
  {
   "cell_type": "markdown",
   "metadata": {},
   "source": [
    "4. **Rango y rango intercuartílico**:\n",
    "   - Calcula el **rango** y el **rango intercuartílico** para ambas columnas. \n",
    "   - ¿Qué te dice esto sobre la variabilidad de los datos? Justifica tus conclusiones con representación de graficas. "
   ]
  },
  {
   "cell_type": "code",
   "execution_count": 100,
   "metadata": {},
   "outputs": [],
   "source": [
    "# tu codigo aqui"
   ]
  },
  {
   "cell_type": "markdown",
   "metadata": {},
   "source": [
    "5. **Cálculo de la asimetría**:\n",
    "   - Usa la función adecuada en Python para calcular la **asimetría** de los datos de **Horas Trabajadas** y **Ventas Realizadas**. \n",
    "   - Interpreta si el conjunto de datos es **simétrico**, **sesgado a la izquierda** o **sesgado a la derecha**."
   ]
  },
  {
   "cell_type": "code",
   "execution_count": 101,
   "metadata": {},
   "outputs": [],
   "source": [
    "# tu codigo aqui"
   ]
  },
  {
   "cell_type": "markdown",
   "metadata": {},
   "source": [
    "6. **Cálculo de la curtosis**:\n",
    "   - Calcula la **curtosis** para ambos conjuntos de datos. ¿Los conjuntos tienen una curtosis positiva, negativa o son mesocúrticos? \n",
    "   - Explica qué implica esto sobre la forma de la distribución."
   ]
  },
  {
   "cell_type": "code",
   "execution_count": null,
   "metadata": {},
   "outputs": [],
   "source": []
  },
  {
   "cell_type": "markdown",
   "metadata": {},
   "source": [
    "7. **Gráfico de dispersión**:\n",
    "   - Crea un **gráfico de dispersión** entre **Horas Trabajadas** y **Ventas Realizadas**. \n",
    "   - ¿Hay alguna correlación entre ambas variables? Explica cómo interpretar la relación entre las dos variables."
   ]
  },
  {
   "cell_type": "code",
   "execution_count": null,
   "metadata": {},
   "outputs": [],
   "source": []
  },
  {
   "cell_type": "markdown",
   "metadata": {},
   "source": [
    "8. **Análisis exploratorio completo**:\n",
    "   - Realiza un análisis exploratorio detallado de los datos, incluyendo todas las medidas calculadas en los ejercicios anteriores. Presenta los resultados en forma de un informe claro y visual con gráficos y tablas que resuman las características clave de los datos.\n",
    "\n",
    "\n"
   ]
  },
  {
   "cell_type": "markdown",
   "metadata": {},
   "source": []
  }
 ],
 "metadata": {
  "kernelspec": {
   "display_name": "Python 3",
   "language": "python",
   "name": "python3"
  },
  "language_info": {
   "codemirror_mode": {
    "name": "ipython",
    "version": 3
   },
   "file_extension": ".py",
   "mimetype": "text/x-python",
   "name": "python",
   "nbconvert_exporter": "python",
   "pygments_lexer": "ipython3",
   "version": "3.12.6"
  }
 },
 "nbformat": 4,
 "nbformat_minor": 2
}
